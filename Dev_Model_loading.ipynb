{
  "cells": [
    {
      "attachments": {},
      "cell_type": "markdown",
      "metadata": {},
      "source": [
        "As per paper they use mini-\n",
        "batches of size 16 and stop training after 310k iterations.\n",
        "The training takes 40 hours on a RTX 2080i GPU"
      ]
    },
    {
      "cell_type": "code",
      "execution_count": null,
      "metadata": {
        "colab": {
          "base_uri": "https://localhost:8080/"
        },
        "id": "G1rqceXOxUnt",
        "outputId": "98dc993b-d531-40a4-b946-a7fb96e8128a"
      },
      "outputs": [
        {
          "name": "stdout",
          "output_type": "stream",
          "text": [
            "Looking in indexes: https://pypi.org/simple, https://us-python.pkg.dev/colab-wheels/public/simple/\n",
            "Requirement already satisfied: gdown in /usr/local/lib/python3.10/dist-packages (4.6.6)\n",
            "Requirement already satisfied: filelock in /usr/local/lib/python3.10/dist-packages (from gdown) (3.12.0)\n",
            "Requirement already satisfied: requests[socks] in /usr/local/lib/python3.10/dist-packages (from gdown) (2.27.1)\n",
            "Requirement already satisfied: beautifulsoup4 in /usr/local/lib/python3.10/dist-packages (from gdown) (4.11.2)\n",
            "Requirement already satisfied: tqdm in /usr/local/lib/python3.10/dist-packages (from gdown) (4.65.0)\n",
            "Requirement already satisfied: six in /usr/local/lib/python3.10/dist-packages (from gdown) (1.16.0)\n",
            "Requirement already satisfied: soupsieve>1.2 in /usr/local/lib/python3.10/dist-packages (from beautifulsoup4->gdown) (2.4.1)\n",
            "Requirement already satisfied: charset-normalizer~=2.0.0 in /usr/local/lib/python3.10/dist-packages (from requests[socks]->gdown) (2.0.12)\n",
            "Requirement already satisfied: idna<4,>=2.5 in /usr/local/lib/python3.10/dist-packages (from requests[socks]->gdown) (3.4)\n",
            "Requirement already satisfied: urllib3<1.27,>=1.21.1 in /usr/local/lib/python3.10/dist-packages (from requests[socks]->gdown) (1.26.15)\n",
            "Requirement already satisfied: certifi>=2017.4.17 in /usr/local/lib/python3.10/dist-packages (from requests[socks]->gdown) (2022.12.7)\n",
            "Requirement already satisfied: PySocks!=1.5.7,>=1.5.6 in /usr/local/lib/python3.10/dist-packages (from requests[socks]->gdown) (1.7.1)\n"
          ]
        }
      ],
      "source": [
        "pip install gdown"
      ]
    },
    {
      "cell_type": "code",
      "execution_count": null,
      "metadata": {
        "colab": {
          "base_uri": "https://localhost:8080/"
        },
        "id": "kAh4u-YJxVj2",
        "outputId": "d74dd2f2-0637-47b9-a496-08ca7322c389"
      },
      "outputs": [
        {
          "name": "stdout",
          "output_type": "stream",
          "text": [
            "Retrieving folder list\n",
            "Processing file 1e6oJBhDifz8QYtiQk-DrioCZzbdrwOwu checkpoint\n",
            "Processing file 1GS3e2Dsn8uf5tq3UZGpxVNLGNDsoXcuS model.ckpt-190169.data-00000-of-00001\n",
            "Processing file 1AJkBRsFy1UjpwjUkzEQ_miINpfvTy_p6 model.ckpt-190169.index\n",
            "Processing file 1N3V6K1GI1Muh2pn4hHvJrX8n2X5XaOkA model.ckpt-190169.meta\n",
            "Retrieving folder list completed\n",
            "Building directory structure\n",
            "Building directory structure completed\n",
            "Downloading...\n",
            "From: https://drive.google.com/uc?id=1e6oJBhDifz8QYtiQk-DrioCZzbdrwOwu\n",
            "To: /content/C3/checkpoint\n",
            "100% 82.0/82.0 [00:00<00:00, 543kB/s]\n",
            "Downloading...\n",
            "From: https://drive.google.com/uc?id=1GS3e2Dsn8uf5tq3UZGpxVNLGNDsoXcuS\n",
            "To: /content/C3/model.ckpt-190169.data-00000-of-00001\n",
            "100% 96.3M/96.3M [00:01<00:00, 60.4MB/s]\n",
            "Downloading...\n",
            "From: https://drive.google.com/uc?id=1AJkBRsFy1UjpwjUkzEQ_miINpfvTy_p6\n",
            "To: /content/C3/model.ckpt-190169.index\n",
            "100% 3.71k/3.71k [00:00<00:00, 23.7MB/s]\n",
            "Downloading...\n",
            "From: https://drive.google.com/uc?id=1N3V6K1GI1Muh2pn4hHvJrX8n2X5XaOkA\n",
            "To: /content/C3/model.ckpt-190169.meta\n",
            "100% 148M/148M [00:00<00:00, 167MB/s]\n",
            "Download completed\n"
          ]
        }
      ],
      "source": [
        "!gdown --folder https://drive.google.com/drive/folders/1g6QZVQBWWajmQ9kGGyZ5luw5yx4Kg0mL"
      ]
    },
    {
      "cell_type": "code",
      "execution_count": null,
      "metadata": {
        "id": "CiFS1Maewqri"
      },
      "outputs": [],
      "source": [
        "import tensorflow as tf\n",
        "from tensorflow import keras\n",
        "import os\n",
        "\n",
        "# Define a simple sequential model\n",
        "def create_model():\n",
        "    import tensorflow as tf\n",
        "\n",
        "def create_model():\n",
        "    model = tf.keras.Sequential([\n",
        "        tf.keras.layers.Conv2D(64, (3,3), padding='same', activation='relu', input_shape=(32, 512, 1)),\n",
        "        tf.keras.layers.Dropout(0.5),\n",
        "        tf.keras.layers.Flatten(),\n",
        "        tf.keras.layers.Dense(1024, activation='relu'),\n",
        "        tf.keras.layers.Dense(46, activation='softmax')\n",
        "    ])\n",
        "    \n",
        "\n",
        "    model.compile(optimizer='adam',\n",
        "                loss=tf.keras.losses.SparseCategoricalCrossentropy(from_logits=True),\n",
        "                metrics=[tf.keras.metrics.SparseCategoricalAccuracy()])\n",
        "\n",
        "    return model"
      ]
    },
    {
      "cell_type": "code",
      "execution_count": null,
      "metadata": {
        "colab": {
          "base_uri": "https://localhost:8080/",
          "height": 1000
        },
        "id": "00rB_VYvyjWU",
        "outputId": "df5c604d-1cef-4049-e9f3-d5e514e86b8d"
      },
      "outputs": [
        {
          "name": "stderr",
          "output_type": "stream",
          "text": [
            "WARNING:tensorflow:From /usr/local/lib/python3.10/dist-packages/tensorflow/python/checkpoint/checkpoint.py:1426: NameBasedSaverStatus.__init__ (from tensorflow.python.checkpoint.checkpoint) is deprecated and will be removed in a future version.\n",
            "Instructions for updating:\n",
            "Restoring a name-based tf.train.Saver checkpoint using the object-based restore API. This mode uses global names to match variables, and so is somewhat fragile. It also adds new restore ops to the graph each time it is called when graph building. Prefer re-encoding training checkpoints in the object-based format: run save() on the object-based saver (the same one this message is coming from) and use that checkpoint in the future.\n"
          ]
        },
        {
          "ename": "AssertionError",
          "evalue": "ignored",
          "output_type": "error",
          "traceback": [
            "\u001b[0;31m---------------------------------------------------------------------------\u001b[0m",
            "\u001b[0;31mAssertionError\u001b[0m                            Traceback (most recent call last)",
            "\u001b[0;32m<ipython-input-4-f966d7030ace>\u001b[0m in \u001b[0;36m<cell line: 9>\u001b[0;34m()\u001b[0m\n\u001b[1;32m      7\u001b[0m \u001b[0;34m\u001b[0m\u001b[0m\n\u001b[1;32m      8\u001b[0m \u001b[0;31m# Loads the weights\u001b[0m\u001b[0;34m\u001b[0m\u001b[0;34m\u001b[0m\u001b[0m\n\u001b[0;32m----> 9\u001b[0;31m \u001b[0mmodel\u001b[0m\u001b[0;34m.\u001b[0m\u001b[0mload_weights\u001b[0m\u001b[0;34m(\u001b[0m\u001b[0mcheckpoint_path\u001b[0m\u001b[0;34m)\u001b[0m\u001b[0;34m\u001b[0m\u001b[0;34m\u001b[0m\u001b[0m\n\u001b[0m\u001b[1;32m     10\u001b[0m \u001b[0;34m\u001b[0m\u001b[0m\n\u001b[1;32m     11\u001b[0m \u001b[0mprint\u001b[0m\u001b[0;34m(\u001b[0m\u001b[0mmodel\u001b[0m\u001b[0;34m.\u001b[0m\u001b[0msummary\u001b[0m\u001b[0;34m(\u001b[0m\u001b[0;34m)\u001b[0m\u001b[0;34m)\u001b[0m\u001b[0;34m\u001b[0m\u001b[0;34m\u001b[0m\u001b[0m\n",
            "\u001b[0;32m/usr/local/lib/python3.10/dist-packages/keras/utils/traceback_utils.py\u001b[0m in \u001b[0;36merror_handler\u001b[0;34m(*args, **kwargs)\u001b[0m\n\u001b[1;32m     68\u001b[0m             \u001b[0;31m# To get the full stack trace, call:\u001b[0m\u001b[0;34m\u001b[0m\u001b[0;34m\u001b[0m\u001b[0m\n\u001b[1;32m     69\u001b[0m             \u001b[0;31m# `tf.debugging.disable_traceback_filtering()`\u001b[0m\u001b[0;34m\u001b[0m\u001b[0;34m\u001b[0m\u001b[0m\n\u001b[0;32m---> 70\u001b[0;31m             \u001b[0;32mraise\u001b[0m \u001b[0me\u001b[0m\u001b[0;34m.\u001b[0m\u001b[0mwith_traceback\u001b[0m\u001b[0;34m(\u001b[0m\u001b[0mfiltered_tb\u001b[0m\u001b[0;34m)\u001b[0m \u001b[0;32mfrom\u001b[0m \u001b[0;32mNone\u001b[0m\u001b[0;34m\u001b[0m\u001b[0;34m\u001b[0m\u001b[0m\n\u001b[0m\u001b[1;32m     71\u001b[0m         \u001b[0;32mfinally\u001b[0m\u001b[0;34m:\u001b[0m\u001b[0;34m\u001b[0m\u001b[0;34m\u001b[0m\u001b[0m\n\u001b[1;32m     72\u001b[0m             \u001b[0;32mdel\u001b[0m \u001b[0mfiltered_tb\u001b[0m\u001b[0;34m\u001b[0m\u001b[0;34m\u001b[0m\u001b[0m\n",
            "\u001b[0;32m/usr/local/lib/python3.10/dist-packages/tensorflow/python/checkpoint/checkpoint.py\u001b[0m in \u001b[0;36massert_consumed\u001b[0;34m(self)\u001b[0m\n\u001b[1;32m   1049\u001b[0m       unused_attribute_string = \"\".join(\n\u001b[1;32m   1050\u001b[0m           f\"\\n    {obj}: {attributes}\" for obj, attributes in unused_attributes)\n\u001b[0;32m-> 1051\u001b[0;31m       raise AssertionError(\n\u001b[0m\u001b[1;32m   1052\u001b[0m           \u001b[0;34m\"Some objects had attributes which were not restored: \"\u001b[0m\u001b[0;34m\u001b[0m\u001b[0;34m\u001b[0m\u001b[0m\n\u001b[1;32m   1053\u001b[0m           f\"{unused_attribute_string}\")\n",
            "\u001b[0;31mAssertionError\u001b[0m: Some objects had attributes which were not restored: \n    <tf.Variable 'conv2d/kernel:0' shape=(3, 3, 1, 64) dtype=float32, numpy=\narray([[[[-8.67666677e-02, -1.41268596e-02, -7.33590573e-02,\n           1.64553374e-02, -1.89479142e-02,  9.37451273e-02,\n          -2.37859786e-04,  6.83291256e-02, -2.68261358e-02,\n           1.24763176e-02,  1.15954354e-02, -2.07782462e-02,\n           5.39118052e-02, -8.73939916e-02,  4.07194793e-02,\n           3.13762277e-02,  1.99608505e-04,  9.98001099e-02,\n          -4.15457189e-02,  1.00097418e-01, -2.02923417e-02,\n           6.09717518e-03, -4.27980721e-03,  9.57163423e-02,\n           6.97321892e-02, -4.48301956e-02, -3.08604017e-02,\n           9.93474126e-02, -6.32138997e-02, -9.68802124e-02,\n           1.93494037e-02, -4.94927093e-02, -3.56360376e-02,\n           4.86269146e-02,  3.71202976e-02,  6.71737790e-02,\n           3.80893946e-02, -4.09154482e-02,  8.14786106e-02,\n          -4.62551489e-02, -1.62558705e-02,  7.21125156e-02,\n           4.11698520e-02,  1.18790045e-02, -1.00296818e-01,\n          -5.42981885e-02, -4.04047221e-02, -7.98270106e-03,\n           1.73886642e-02,  1.81672871e-02,  8.31619650e-03,\n           2.23058611e-02,  7.89819807e-02,  9.61402804e-02,\n          -9.96754020e-02, -5.14132269e-02,  2.27084160e-02,\n          -1.83582082e-02,  6.08533025e-02, -1.26534700e-02,\n           3.96374762e-02,  5.14178872e-02, -8.86426345e-02,\n          -1.11119673e-02]],\n\n        [[ 9.13517922e-02, -3.60213295e-02, -2.45343298e-02,\n           1.70962512e-03,  1.00554660e-01,  4.96916026e-02,\n          -6.15420192e-03, -9.69051793e-02,  1.78836510e-02,\n          -4.76097390e-02, -8.06853324e-02,  4.05967534e-02,\n          -5.75725250e-02,  5.97692430e-02,  1.71609670e-02,\n           3.35627496e-02,  9.60184634e-02,  1.32728517e-02,\n          -3.99224125e-02,  7.83824474e-02, -7.99908116e-02,\n           8.54060799e-02, -6.65594935e-02, -2.52750739e-02,\n           7.92023838e-02, -2.64522433e-03,  3.48943621e-02,\n           6.85023367e-02, -8.98410231e-02,  3.98574173e-02,\n          -8.81005675e-02, -9.85300317e-02,  5.89443594e-02,\n          -3.20171490e-02,  2.69120485e-02, -5.64098172e-02,\n           2.63107568e-03, -5.03919162e-02,  1.47553682e-02,\n           5.73993325e-02,  8.78585726e-02, -6.08248860e-02,\n          -8.44368562e-02, -3.74879688e-03,  9.96378809e-02,\n           1.08943433e-02, -9.98438895e-02,  9.02592540e-02,\n           4.00989652e-02, -5.03718033e-02, -9.53007042e-02,\n          -5.42816967e-02,  3.41732949e-02,  7.53289759e-02,\n          -6.93795979e-02, -8.48574489e-02, -9.23459828e-02,\n          -5.90477213e-02, -3.86781394e-02,  5.82710505e-02,\n          -2.11929902e-02, -7.31934905e-02, -3.64521816e-02,\n           2.57971734e-02]],\n\n        [[-3.21055651e-02,  5.03364950e-02,  9.45241600e-02,\n          -6.72218949e-02, -5.49385063e-02, -2.52684280e-02,\n           6.16312772e-02, -1.40599310e-02, -9.54167992e-02,\n          -2.10210681e-04,  3.08801383e-02, -2.35107988e-02,\n           6.92117810e-02,  1.12127513e-03, -5.07748425e-02,\n           1.01020649e-01,  2.28855014e-02, -7.08312318e-02,\n           1.00690052e-01,  2.47590095e-02,  7.71203637e-02,\n           7.55908787e-02,  1.41785517e-02,  9.12338495e-03,\n          -2.13224888e-02, -4.06176858e-02,  8.24474096e-02,\n          -7.32770115e-02, -1.94889158e-02, -1.25355721e-02,\n           9.13419127e-02, -6.56846911e-03,  7.29393363e-02,\n           5.01059592e-02,  3.71134877e-02,  3.39259952e-02,\n          -5.85705340e-02, -7.69120306e-02, -8.05402547e-03,\n          -6.41825497e-02,  7.61605501e-02,  8.20174813e-04,\n          -7.05799460e-02, -8.14831257e-03, -9.59594920e-02,\n          -4.47669588e-02,  9.70453471e-02,  8.32419842e-02,\n           7.33933896e-02, -9.35228467e-02,  7.05755800e-02,\n           2.70179510e-02,  6.82125688e-02, -2.78125033e-02,\n          -5.39249964e-02, -6.90319017e-02, -1.61609054e-03,\n          -6.29599094e-02, -5.83305992e-02, -1.23691112e-02,\n           5.03069013e-02,  6.60584867e-03,  4.61651087e-02,\n          -3.72910500e-02]]],\n\n\n       [[[-2.82894820e-03,  5.50035983e-02, -6.89728111e-02,\n          -7.05574676e-02, -6.28011301e-02, -8.55016261e-02,\n           2.21393332e-02, -5.11909649e-02,  7.60730505e-02,\n          -5.91383167e-02, -6.67509437e-02, -4.83781099e-03,\n          -5.17498888e-02,  5.93536943e-02,  7.53705204e-02,\n          -5.10654077e-02, -5.66442944e-02,  9.85343605e-02,\n          -5.52110597e-02, -2.35483944e-02, -6.42784983e-02,\n           7.04255402e-02, -5.16447835e-02, -9.46546420e-02,\n          -6.07545525e-02, -3.20797339e-02,  2.30151862e-02,\n          -6.94313198e-02, -5.64258248e-02, -4.04212363e-02,\n           4.76280451e-02,  3.84474546e-02,  8.34642947e-02,\n           2.22928226e-02, -6.56294525e-02, -3.37819755e-02,\n          -6.88955784e-02, -4.07752581e-02, -5.95072396e-02,\n          -1.00495704e-01, -6.65183961e-02, -9.13566425e-02,\n          -2.42878795e-02,  5.08780628e-02, -8.68622586e-02,\n           8.08481425e-02,  1.11162663e-04,  5.77921271e-02,\n           7.35325366e-02, -4.39362787e-02,  7.61339068e-03,\n           5.76230437e-02, -9.66434926e-02, -5.94831146e-02,\n          -7.34382793e-02,  1.65775865e-02,  1.87041834e-02,\n          -9.80280936e-02,  4.15707529e-02,  4.51534092e-02,\n           5.21455407e-02,  8.01627934e-02,  4.05157655e-02,\n           9.04347599e-02]],\n\n        [[ 1.35343522e-03, -5.96517026e-02, -1.26873478e-02,\n           9.06605273e-02,  4.61998731e-02, -1.07587203e-02,\n           1.85354576e-02,  3.11672240e-02, -1.70549229e-02,\n           5.13586104e-02,  1.96593255e-03,  8.43058676e-02,\n           2.53954828e-02, -3.68653163e-02,  4.26818877e-02,\n           3.05473804e-05, -3.78723443e-03,  7.59820938e-02,\n          -9.36040431e-02,  1.64154768e-02,  9.73859429e-03,\n           7.85851777e-02,  7.73783773e-02,  9.66787636e-02,\n          -9.20407176e-02, -5.71744367e-02, -5.27508557e-03,\n          -5.28823175e-02, -2.57873684e-02, -8.63876194e-03,\n          -4.60658483e-02, -6.56038523e-04, -4.17640470e-02,\n          -1.88091025e-02, -7.89689720e-02,  5.02524972e-02,\n          -5.70356213e-02, -7.64866322e-02,  3.74618620e-02,\n           3.36637348e-02,  6.67025000e-02, -6.49948418e-03,\n           9.73761678e-02, -3.39443982e-02, -5.84519058e-02,\n          -5.41056693e-03, -9.48718786e-02,  7.78158754e-02,\n           5.16366661e-02,  4.31858003e-03,  3.18794399e-02,\n          -9.84933823e-02, -1.63988844e-02,  7.60414302e-02,\n          -7.82928169e-02, -2.36214325e-02, -6.01754896e-02,\n           3.57400626e-03, -9.93848369e-02,  6.04698807e-02,\n          -4.05698754e-02,  4.22729403e-02,  2.47985572e-02,\n          -9.30657685e-02]],\n\n        [[ 6.61751330e-02,  3.19981277e-02, -2.60961056e-03,\n           1.50450170e-02, -1.75638869e-02, -9.52747762e-02,\n          -5.53101562e-02, -8.74490440e-02, -2.87825093e-02,\n          -6.77473992e-02,  7.53940493e-02,  1.37029365e-02,\n           4.24817204e-02,  1.01129666e-01,  6.07010722e-02,\n           3.75717878e-02,  1.00426167e-01,  5.81244677e-02,\n           6.66977167e-02,  6.39900416e-02, -2.29557678e-02,\n           6.87116832e-02,  7.63962269e-02,  8.48310143e-02,\n           7.93696940e-02, -4.61146683e-02, -1.86601728e-02,\n           5.57731241e-02, -6.29332066e-02, -3.41735631e-02,\n           5.68336993e-02,  2.14731097e-02,  6.90858662e-02,\n           4.12178934e-02, -7.58038461e-02, -4.52066511e-02,\n          -4.16431576e-03, -3.84226441e-03,  7.37413764e-02,\n          -6.67463541e-02, -4.49925028e-02, -4.13582548e-02,\n          -7.54281655e-02, -7.13773295e-02,  9.53091532e-02,\n          -1.36304721e-02, -6.18619882e-02,  3.12886536e-02,\n           5.42823672e-02,  4.17257845e-03,  4.46345657e-03,\n           5.34773171e-02, -4.69746143e-02,  5.29978573e-02,\n          -1.83223486e-02, -3.80152762e-02,  9.57982689e-02,\n           1.45877004e-02, -6.44961298e-02, -4.28040437e-02,\n           9.21992809e-02, -4.94025499e-02,  4.79567647e-02,\n           3.48207653e-02]]],\n\n\n       [[[-5.06378375e-02, -5.96245602e-02,  7.97298700e-02,\n          -6.18430562e-02, -9.58836526e-02,  9.11327899e-02,\n          -1.89332068e-02, -7.60731846e-02, -7.08945394e-02,\n           5.73213100e-02, -1.83445141e-02,  6.32337928e-02,\n          -1.33421049e-02, -7.70589113e-02, -5.80543727e-02,\n           7.51290023e-02, -2.50564814e-02,  4.29979563e-02,\n           3.70928645e-02,  5.08006513e-02,  5.46024442e-02,\n           6.63977563e-02, -1.27213001e-02,  4.97467965e-02,\n          -3.66238356e-02,  2.63312757e-02, -6.33627623e-02,\n           8.50252807e-03,  4.37872112e-02, -9.71223190e-02,\n           7.13081360e-02,  6.91490024e-02, -9.04554352e-02,\n           5.17053157e-02, -3.64354253e-03,  2.41327435e-02,\n          -3.52424905e-02, -7.86476433e-02, -1.74472630e-02,\n          -3.50055993e-02, -7.43207783e-02, -1.74652040e-02,\n           4.28882092e-02,  7.54790753e-03,  2.35772729e-02,\n           7.43665844e-02, -4.03386094e-02, -9.90525931e-02,\n           6.17270619e-02,  3.74602377e-02, -4.94777411e-02,\n          -5.70405014e-02, -5.09513170e-03, -1.33530051e-03,\n          -1.28590018e-02,  3.83924097e-02,  7.02299178e-04,\n           1.04176179e-02,  2.67306566e-02,  5.38895428e-02,\n          -1.22809783e-02, -5.09995408e-02, -4.99818511e-02,\n           6.28676713e-02]],\n\n        [[-6.62077814e-02, -3.63798216e-02, -2.98990011e-02,\n           8.33394229e-02,  6.22150153e-02, -6.34750351e-02,\n          -1.85694546e-02, -6.18407875e-02, -9.67994258e-02,\n           6.05748147e-02,  1.18694901e-02,  2.37531960e-03,\n          -7.99832046e-02, -1.70210451e-02, -3.92614044e-02,\n           6.93669170e-03,  8.93879086e-02,  3.31090838e-02,\n          -2.63474956e-02, -7.65279680e-03,  7.81514943e-02,\n           5.27317822e-03, -8.24055150e-02, -3.58059555e-02,\n           5.19654304e-02,  3.79228145e-02, -5.09245694e-02,\n          -3.60285044e-02,  5.81976026e-03,  3.83650213e-02,\n           6.53996766e-02, -7.66741261e-02, -8.41094553e-03,\n          -6.75780475e-02,  1.25417486e-02,  8.93501937e-02,\n           8.66052508e-02,  8.18507224e-02, -3.35751399e-02,\n           9.28164124e-02, -7.14548156e-02, -8.10074136e-02,\n          -7.49186203e-02, -6.21453114e-02,  6.02647662e-04,\n          -7.72409886e-03, -3.29136997e-02,  8.95207375e-03,\n           6.53835982e-02, -3.23270038e-02, -6.25310615e-02,\n           8.68559778e-02,  3.01163793e-02,  8.32508951e-02,\n           9.73849744e-03,  9.99946594e-02, -1.79631263e-03,\n           8.95906687e-02,  9.38990563e-02, -5.44326566e-02,\n           9.16232914e-02, -9.14461166e-03, -3.80312577e-02,\n           2.01877877e-02]],\n\n        [[-1.06885061e-02, -6.84363246e-02,  6.40694797e-02,\n           1.19725168e-02, -1.30931363e-02, -5.23582846e-03,\n           1.75721943e-03,  2.71369517e-03,  1.01103976e-01,\n          -7.73195848e-02,  7.30547458e-02, -5.37112840e-02,\n          -1.92067027e-02, -6.52516186e-02, -9.96388271e-02,\n           8.97645801e-02,  1.01172820e-01,  3.20609957e-02,\n           9.54098254e-03, -4.31972295e-02, -6.89862669e-02,\n          -8.25552642e-02, -5.54636233e-02, -4.52584438e-02,\n           6.41946942e-02,  2.06349194e-02,  1.89969540e-02,\n          -1.76915452e-02, -2.49415264e-02, -4.57783230e-02,\n           1.56967118e-02,  7.40749538e-02,  3.31376493e-03,\n           9.52835381e-02, -6.80194274e-02, -7.80220032e-02,\n          -7.60044232e-02, -3.15941647e-02,  1.71207711e-02,\n           4.70407307e-02,  5.09314984e-03, -1.52643844e-02,\n           6.93515837e-02, -7.62779936e-02, -1.29884407e-02,\n           3.28957140e-02,  9.62102413e-02,  6.86529577e-02,\n           8.56578946e-02, -1.95731893e-02,  1.51672661e-02,\n           3.30222100e-02, -6.18404746e-02,  5.66458106e-02,\n          -8.21283460e-03,  1.05054677e-03, -8.68737027e-02,\n          -9.44285467e-02,  5.32242209e-02,  7.33726919e-02,\n          -4.56159897e-02,  6.81041032e-02, -1.01059899e-02,\n          -2.26546228e-02]]]], dtype=float32)>: ['conv2d/kernel']\n    <tf.Variable 'conv2d/bias:0' shape=(64,) dtype=float32, numpy=\narray([0., 0., 0., 0., 0., 0., 0., 0., 0., 0., 0., 0., 0., 0., 0., 0., 0.,\n       0., 0., 0., 0., 0., 0., 0., 0., 0., 0., 0., 0., 0., 0., 0., 0., 0.,\n       0., 0., 0., 0., 0., 0., 0., 0., 0., 0., 0., 0., 0., 0., 0., 0., 0.,\n       0., 0., 0., 0., 0., 0., 0., 0., 0., 0., 0., 0., 0.], dtype=float32)>: ['conv2d/bias']\n    <tf.Variable 'dense/kernel:0' shape=(1048576, 1024) dtype=float32, numpy=\narray([[ 1.7924388e-03, -1.5494545e-03,  5.9659895e-04, ...,\n        -1.6631002e-03, -2.0019005e-03, -1.7234974e-03],\n       [-4.9640390e-04,  2.1820311e-03, -2.1492110e-03, ...,\n        -1.7196867e-03, -1.4762292e-03, -2.1270290e-04],\n       [ 4.1668070e-05, -7.7237526e-04, -1.4606894e-03, ...,\n        -2.2838579e-03,  2.9316545e-04,  1.7034998e-03],\n       ...,\n       [ 1.5112159e-03, -1.6519553e-03, -1.1009440e-03, ...,\n        -1.8540127e-03,  1.1285378e-03, -6.8022520e-04],\n       [ 1.7756009e-03, -1.7692577e-03, -1.4154010e-03, ...,\n        -2.2725055e-03, -1.1995002e-03,  1.7552041e-03],\n       [ 9.8375231e-04, -2.0939941e-03, -9.4636797e-04, ...,\n         2.0875749e-03,  8.1276242e-04, -9.9177007e-05]], dtype=float32)>: ['dense/kernel']\n    <tf.Variable 'dense/bias:0' shape=(1024,) dtype=float32, numpy=array([0., 0., 0., ..., 0., 0., 0.], dtype=float32)>: ['dense/bias']\n    <tf.Variable 'dense_1/kernel:0' shape=(1024, 46) dtype=float32, numpy=\narray([[ 0.03969984,  0.04644936, -0.03767334, ...,  0.06182475,\n        -0.04798799,  0.02730053],\n       [ 0.00556552, -0.02210325, -0.02943665, ...,  0.03366546,\n         0.07339849, -0.00685097],\n       [-0.05828953, -0.01214455,  0.0399605 , ...,  0.01497539,\n         0.06053557,  0.07219562],\n       ...,\n       [-0.04585007, -0.04346614,  0.06083703, ...,  0.04777578,\n         0.02185141, -0.05569904],\n       [-0.00232058, -0.04272706, -0.06119774, ...,  0.068032  ,\n         0.02064762,  0.02291565],\n       [ 0.00164381,  0.063619  , -0.07239377, ...,  0.02470518,\n         0.0455818 ,  0.05527954]], dtype=float32)>: ['dense_1/kernel']\n    <tf.Variable 'dense_1/bias:0' shape=(46,) dtype=float32, numpy=\narray([0., 0., 0., 0., 0., 0., 0., 0., 0., 0., 0., 0., 0., 0., 0., 0., 0.,\n       0., 0., 0., 0., 0., 0., 0., 0., 0., 0., 0., 0., 0., 0., 0., 0., 0.,\n       0., 0., 0., 0., 0., 0., 0., 0., 0., 0., 0., 0.], dtype=float32)>: ['dense_1/bias']\n    <tf.Variable 'iteration:0' shape=() dtype=int64, numpy=0>: ['iteration']\n    <tf.Variable 'learning_rate:0' shape=() dtype=float32, numpy=0.001>: ['learning_rate']"
          ]
        }
      ],
      "source": [
        "# Path to run on Collab\n",
        "# checkpoint_path = \"/content/C3/model.ckpt-190169\"\n",
        "\n",
        "# Path to run on local\n",
        "checkpoint_path = \"C3/model.ckpt-190169\"\n",
        "checkpoint_dir = os.path.dirname(checkpoint_path)\n",
        "\n",
        "\n",
        "# Create a new model instance\n",
        "model = create_model()\n",
        "\n",
        "# Loads the weights\n",
        "model.load_weights(checkpoint_path)\n",
        "\n",
        "print(model.summary())"
      ]
    },
    {
      "cell_type": "code",
      "execution_count": null,
      "metadata": {
        "id": "6NuiZfMtOKrq"
      },
      "outputs": [],
      "source": [
        "model.save('DevModel.hd5')"
      ]
    }
  ],
  "metadata": {
    "accelerator": "GPU",
    "colab": {
      "provenance": []
    },
    "gpuClass": "standard",
    "kernelspec": {
      "display_name": "Python 3",
      "name": "python3"
    },
    "language_info": {
      "name": "python"
    }
  },
  "nbformat": 4,
  "nbformat_minor": 0
}
